{
  "nbformat": 4,
  "nbformat_minor": 0,
  "metadata": {
    "colab": {
      "provenance": []
    },
    "kernelspec": {
      "name": "python3",
      "display_name": "Python 3"
    },
    "language_info": {
      "name": "python"
    }
  },
  "cells": [
    {
      "cell_type": "markdown",
      "source": [
        "Numpy - Numerical Python\n",
        "\n",
        "  =>  numpy is a python library that provides numerical operations & array manupultion."
      ],
      "metadata": {
        "id": "Rwlk3vpyiFNh"
      }
    },
    {
      "cell_type": "markdown",
      "source": [
        "Advantages of numpy:\n",
        "\n",
        "\n",
        "*   Allows mathematical operations\n",
        "*   Fast operations\n",
        "\n"
      ],
      "metadata": {
        "id": "k8sU2PZkkuvV"
      }
    },
    {
      "cell_type": "code",
      "execution_count": null,
      "metadata": {
        "colab": {
          "base_uri": "https://localhost:8080/"
        },
        "id": "mAHyCMLtiCEO",
        "outputId": "d6c39eea-eebf-451b-8ad7-9015fb83a90d"
      },
      "outputs": [
        {
          "output_type": "stream",
          "name": "stdout",
          "text": [
            "Requirement already satisfied: numpy in /usr/local/lib/python3.10/dist-packages (1.26.4)\n"
          ]
        }
      ],
      "source": [
        "# Installing numpy library\n",
        "!pip install numpy\n"
      ]
    },
    {
      "cell_type": "code",
      "source": [
        "# Importing numpy library\n",
        "import numpy as np\n"
      ],
      "metadata": {
        "id": "tL1UTTTNlek_"
      },
      "execution_count": null,
      "outputs": []
    },
    {
      "cell_type": "markdown",
      "source": [
        "How numpy arrays are more efficient & works faster than lists??\n",
        "\n",
        "Lets compare it using time taken to process the same code"
      ],
      "metadata": {
        "id": "PMhZuiF3loiw"
      }
    },
    {
      "cell_type": "code",
      "source": [
        "from time import process_time"
      ],
      "metadata": {
        "id": "kXdzqivYl9Xt"
      },
      "execution_count": null,
      "outputs": []
    },
    {
      "cell_type": "markdown",
      "source": [
        "Time taken by a list"
      ],
      "metadata": {
        "id": "CJ8VVKWcmTVt"
      }
    },
    {
      "cell_type": "code",
      "source": [
        "python_list =[i for i in range(10000)]\n",
        "start_time=process_time()\n",
        "python_list=[i+5 for i in python_list]\n",
        "end_time=process_time()\n",
        "print(end_time-start_time)"
      ],
      "metadata": {
        "colab": {
          "base_uri": "https://localhost:8080/"
        },
        "id": "DskVG7GrmXoL",
        "outputId": "f57b9ed8-b7d8-43ae-d84a-78883a0a0ad0"
      },
      "execution_count": null,
      "outputs": [
        {
          "output_type": "stream",
          "name": "stdout",
          "text": [
            "0.0009225710000002607\n"
          ]
        }
      ]
    },
    {
      "cell_type": "markdown",
      "source": [
        "Time taken by numpy array"
      ],
      "metadata": {
        "id": "OUx26NycnEJf"
      }
    },
    {
      "cell_type": "code",
      "source": [
        "np_array=np.array([i for i in range(10000)])\n",
        "start_time=process_time()\n",
        "np_array+=5\n",
        "end_time=process_time()\n",
        "print(end_time-start_time)"
      ],
      "metadata": {
        "colab": {
          "base_uri": "https://localhost:8080/"
        },
        "id": "MFx1Ho7WnI1o",
        "outputId": "60922982-5b0d-44d7-f93e-525af2433fbd"
      },
      "execution_count": null,
      "outputs": [
        {
          "output_type": "stream",
          "name": "stdout",
          "text": [
            "0.0006982210000003874\n"
          ]
        }
      ]
    },
    {
      "cell_type": "markdown",
      "source": [
        "Numpy arrays"
      ],
      "metadata": {
        "id": "wiryreDPn2SI"
      }
    },
    {
      "cell_type": "code",
      "source": [
        "# list\n",
        "l=[1,2,3,4,5]\n",
        "print(l)\n",
        "type(l)"
      ],
      "metadata": {
        "colab": {
          "base_uri": "https://localhost:8080/"
        },
        "id": "2TwCpILWn4da",
        "outputId": "6ef73493-e72f-40ff-cc64-ea60d9414d19"
      },
      "execution_count": null,
      "outputs": [
        {
          "output_type": "stream",
          "name": "stdout",
          "text": [
            "[1, 2, 3, 4, 5]\n"
          ]
        },
        {
          "output_type": "execute_result",
          "data": {
            "text/plain": [
              "list"
            ]
          },
          "metadata": {},
          "execution_count": 9
        }
      ]
    },
    {
      "cell_type": "code",
      "source": [
        "# numpy arrays creation\n",
        "n=np.array([1,2,3,4,5])\n",
        "print(n)\n",
        "type(n)"
      ],
      "metadata": {
        "colab": {
          "base_uri": "https://localhost:8080/"
        },
        "id": "6dZay-8SoWU7",
        "outputId": "59839a40-f337-4f7f-a371-3a54ac3a01f2"
      },
      "execution_count": null,
      "outputs": [
        {
          "output_type": "stream",
          "name": "stdout",
          "text": [
            "[1 2 3 4 5]\n"
          ]
        },
        {
          "output_type": "execute_result",
          "data": {
            "text/plain": [
              "numpy.ndarray"
            ]
          },
          "metadata": {},
          "execution_count": 11
        }
      ]
    },
    {
      "cell_type": "code",
      "source": [
        "# creating 0 dimensional array(scalar):\n",
        "n=np.array(5)\n",
        "print(n)\n",
        "type(n)"
      ],
      "metadata": {
        "colab": {
          "base_uri": "https://localhost:8080/"
        },
        "id": "Y0TEj5NAqfrE",
        "outputId": "f590df05-6dd4-4362-9e95-2377dd175565"
      },
      "execution_count": null,
      "outputs": [
        {
          "output_type": "stream",
          "name": "stdout",
          "text": [
            "5\n"
          ]
        },
        {
          "output_type": "execute_result",
          "data": {
            "text/plain": [
              "numpy.ndarray"
            ]
          },
          "metadata": {},
          "execution_count": 12
        }
      ]
    },
    {
      "cell_type": "code",
      "source": [
        "n.shape"
      ],
      "metadata": {
        "colab": {
          "base_uri": "https://localhost:8080/"
        },
        "id": "w5OudXKSq6SZ",
        "outputId": "533f1901-c81e-4ff8-846a-8effe30039f6"
      },
      "execution_count": null,
      "outputs": [
        {
          "output_type": "execute_result",
          "data": {
            "text/plain": [
              "()"
            ]
          },
          "metadata": {},
          "execution_count": 14
        }
      ]
    },
    {
      "cell_type": "code",
      "source": [
        "# creating 1 dimensional array(vector)\n",
        "n=np.array([1,2,3,4,5])\n",
        "print(n)\n",
        "type(n)\n"
      ],
      "metadata": {
        "colab": {
          "base_uri": "https://localhost:8080/"
        },
        "id": "5sWVO6Kdq_Vs",
        "outputId": "455de4f2-a91d-4d85-d946-991b57120a20"
      },
      "execution_count": null,
      "outputs": [
        {
          "output_type": "stream",
          "name": "stdout",
          "text": [
            "[1 2 3 4 5]\n"
          ]
        },
        {
          "output_type": "execute_result",
          "data": {
            "text/plain": [
              "numpy.ndarray"
            ]
          },
          "metadata": {},
          "execution_count": 15
        }
      ]
    },
    {
      "cell_type": "code",
      "source": [
        "n.shape"
      ],
      "metadata": {
        "colab": {
          "base_uri": "https://localhost:8080/"
        },
        "id": "-5RkRsE-rHHo",
        "outputId": "70a4e7a3-4b1b-4a21-e78c-4b02323eff4a"
      },
      "execution_count": null,
      "outputs": [
        {
          "output_type": "execute_result",
          "data": {
            "text/plain": [
              "(5,)"
            ]
          },
          "metadata": {},
          "execution_count": 16
        }
      ]
    },
    {
      "cell_type": "code",
      "source": [
        "# creatng 2 dimensional array(matrix):\n",
        "n=np.array([[1,2,3],[1,2,3]])\n",
        "print(n)\n",
        "type(n)"
      ],
      "metadata": {
        "colab": {
          "base_uri": "https://localhost:8080/"
        },
        "id": "QDwNviIPrJXc",
        "outputId": "245134c5-3de3-445c-f27d-bb4e49fc837c"
      },
      "execution_count": null,
      "outputs": [
        {
          "output_type": "stream",
          "name": "stdout",
          "text": [
            "[[1 2 3]\n",
            " [1 2 3]]\n"
          ]
        },
        {
          "output_type": "execute_result",
          "data": {
            "text/plain": [
              "numpy.ndarray"
            ]
          },
          "metadata": {},
          "execution_count": 17
        }
      ]
    },
    {
      "cell_type": "code",
      "source": [
        "n.shape"
      ],
      "metadata": {
        "id": "a246iNrjrTnV",
        "outputId": "b30c5add-5ac5-4c45-cea7-9f18fc2cf72d",
        "colab": {
          "base_uri": "https://localhost:8080/"
        }
      },
      "execution_count": null,
      "outputs": [
        {
          "output_type": "execute_result",
          "data": {
            "text/plain": [
              "(2, 3)"
            ]
          },
          "metadata": {},
          "execution_count": 18
        }
      ]
    },
    {
      "cell_type": "markdown",
      "source": [
        "Initial Placeholders in numpy arrays:\n",
        "\n",
        "\n",
        "*   The methods used to create arrays initialized with specific defualt values.\n",
        "\n",
        "*   Placeolders are useful to allocate memory for arrays before filling them with actual data.\n",
        "\n"
      ],
      "metadata": {
        "id": "8u_hmJPfwN26"
      }
    },
    {
      "cell_type": "markdown",
      "source": [
        "\n",
        "\n",
        "   \n",
        "\n",
        "1.   np.zeros\n",
        "\n",
        "creates an array filled with zeros.\n",
        "\n",
        "\n"
      ],
      "metadata": {
        "id": "5inKmnvIyV_u"
      }
    },
    {
      "cell_type": "code",
      "source": [
        "n=np.zeros((3,4))\n",
        "print(n)"
      ],
      "metadata": {
        "colab": {
          "base_uri": "https://localhost:8080/"
        },
        "id": "ZmUuZND-ySSx",
        "outputId": "83f4f3fa-5e1c-4208-ddf2-0fc62102814f"
      },
      "execution_count": null,
      "outputs": [
        {
          "output_type": "stream",
          "name": "stdout",
          "text": [
            "[[0. 0. 0. 0.]\n",
            " [0. 0. 0. 0.]\n",
            " [0. 0. 0. 0.]]\n"
          ]
        }
      ]
    },
    {
      "cell_type": "markdown",
      "source": [
        "\n",
        "2.   np.ones\n",
        "\n",
        "creates an array filled with ones\n",
        "\n"
      ],
      "metadata": {
        "id": "iTDI8ljYzi1W"
      }
    },
    {
      "cell_type": "code",
      "source": [
        "n=np.ones((3,4))\n",
        "print(n)"
      ],
      "metadata": {
        "colab": {
          "base_uri": "https://localhost:8080/"
        },
        "id": "6Kxf7droz1Vp",
        "outputId": "a7e83edc-2e36-4cad-926d-5074a4b96898"
      },
      "execution_count": null,
      "outputs": [
        {
          "output_type": "stream",
          "name": "stdout",
          "text": [
            "[[1. 1. 1. 1.]\n",
            " [1. 1. 1. 1.]\n",
            " [1. 1. 1. 1.]]\n"
          ]
        }
      ]
    },
    {
      "cell_type": "markdown",
      "source": [
        "\n",
        "\n",
        "\n",
        "3.   np.empty\n",
        "\n",
        "creates an array without initializing its elements\n",
        "\n"
      ],
      "metadata": {
        "id": "P5Paz1rc0CDh"
      }
    },
    {
      "cell_type": "code",
      "source": [
        "n=np.empty((3,4)) # np.empty is more faster than np.zeros,np.ones to fill array later..\n",
        "print(n)"
      ],
      "metadata": {
        "colab": {
          "base_uri": "https://localhost:8080/"
        },
        "id": "-xeyo7aF0Y6q",
        "outputId": "dde54352-7f31-467b-b1bc-5636cc5f6ea3"
      },
      "execution_count": null,
      "outputs": [
        {
          "output_type": "stream",
          "name": "stdout",
          "text": [
            "[[0. 0. 0. 0.]\n",
            " [0. 0. 0. 0.]\n",
            " [0. 0. 0. 0.]]\n"
          ]
        }
      ]
    },
    {
      "cell_type": "markdown",
      "source": [
        "\n",
        "\n",
        "4.   np.full\n",
        "\n",
        "creates an array with a specified value\n",
        "\n",
        "\n",
        "\n",
        "\n"
      ],
      "metadata": {
        "id": "HwTCv1Xq1Ij1"
      }
    },
    {
      "cell_type": "code",
      "source": [
        "n=np.full((3,4),10)\n",
        "print(n)"
      ],
      "metadata": {
        "colab": {
          "base_uri": "https://localhost:8080/"
        },
        "id": "Q7jOax5x1hCG",
        "outputId": "37ba991c-aa05-488f-fc52-7dd3f868f2ae"
      },
      "execution_count": null,
      "outputs": [
        {
          "output_type": "stream",
          "name": "stdout",
          "text": [
            "[[10 10 10 10]\n",
            " [10 10 10 10]\n",
            " [10 10 10 10]]\n"
          ]
        }
      ]
    },
    {
      "cell_type": "markdown",
      "source": [
        "\n",
        "\n",
        "5.   np.eye\n",
        "\n",
        "creates 2D identity matrix(a square matrix with 1's on main diagonal and zeros elsewhere)\n",
        "\n"
      ],
      "metadata": {
        "id": "qfrdcls51r3E"
      }
    },
    {
      "cell_type": "code",
      "source": [
        "# identity matrix\n",
        "n=np.eye(3)\n",
        "print(n)"
      ],
      "metadata": {
        "colab": {
          "base_uri": "https://localhost:8080/"
        },
        "id": "Lvf6O3_W2iRH",
        "outputId": "8a665edd-255b-4596-bc84-fa8abdb50e77"
      },
      "execution_count": null,
      "outputs": [
        {
          "output_type": "stream",
          "name": "stdout",
          "text": [
            "[[1. 0. 0.]\n",
            " [0. 1. 0.]\n",
            " [0. 0. 1.]]\n"
          ]
        }
      ]
    },
    {
      "cell_type": "markdown",
      "source": [
        "\n",
        "\n",
        "6.   np.arange\n",
        "\n",
        "creates an array with evenly spaced values within specified range\n",
        "\n",
        "\n"
      ],
      "metadata": {
        "id": "2nsm5rug3GKq"
      }
    },
    {
      "cell_type": "code",
      "source": [
        "# 1D array with step size\n",
        "n1=np.arange(0,10,2)\n",
        "print(n1)\n"
      ],
      "metadata": {
        "colab": {
          "base_uri": "https://localhost:8080/"
        },
        "id": "Z529KyvN3Lal",
        "outputId": "0d47d516-d1bc-4e20-ed8f-78217395d26e"
      },
      "execution_count": null,
      "outputs": [
        {
          "output_type": "stream",
          "name": "stdout",
          "text": [
            "[0 2 4 6 8]\n"
          ]
        }
      ]
    },
    {
      "cell_type": "markdown",
      "source": [
        "7.   np.linspace\n",
        "\n",
        "creates an array with evenly spaced values within specified interval\n",
        "\n",
        "\n"
      ],
      "metadata": {
        "id": "-6lF2s8_44Nd"
      }
    },
    {
      "cell_type": "code",
      "source": [
        "# An array with 5 points between 0 to 3 (specifying number of points b/w interval)\n",
        "n2=np.linspace(0,3,5)\n",
        "print(n2)"
      ],
      "metadata": {
        "colab": {
          "base_uri": "https://localhost:8080/"
        },
        "id": "_xDD3DQs5IcG",
        "outputId": "868ec91e-c97e-470f-bb3f-dad0fee2a2a4"
      },
      "execution_count": null,
      "outputs": [
        {
          "output_type": "stream",
          "name": "stdout",
          "text": [
            "[0.   0.75 1.5  2.25 3.  ]\n"
          ]
        }
      ]
    },
    {
      "cell_type": "markdown",
      "source": [
        "8.   np.random (random initial values)\n",
        "\n",
        "\n",
        "\n",
        "\n",
        "\n"
      ],
      "metadata": {
        "id": "STs_PH5s5aLO"
      }
    },
    {
      "cell_type": "code",
      "source": [
        "# An array with random values b/w 0 to 1\n",
        "n=np.random.rand(3,4) #random uniform distribution\n",
        "print(n)"
      ],
      "metadata": {
        "colab": {
          "base_uri": "https://localhost:8080/"
        },
        "id": "iZfcxJTM6SOF",
        "outputId": "730b73d3-7b85-44c1-ca38-53fdf8b826ce"
      },
      "execution_count": null,
      "outputs": [
        {
          "output_type": "stream",
          "name": "stdout",
          "text": [
            "[[0.08058177 0.44828739 0.4355331  0.81365506]\n",
            " [0.19790855 0.42873857 0.45349392 0.95118356]\n",
            " [0.62256785 0.1245624  0.77635085 0.33391964]]\n"
          ]
        }
      ]
    },
    {
      "cell_type": "code",
      "source": [
        "# An array with random values\n",
        "n=np.random.randn(3,4) #random normal distribution\n",
        "print(n)"
      ],
      "metadata": {
        "colab": {
          "base_uri": "https://localhost:8080/"
        },
        "id": "ResJKc1G6whu",
        "outputId": "a9adaadb-07e1-427e-8a83-ef2ca81894e8"
      },
      "execution_count": null,
      "outputs": [
        {
          "output_type": "stream",
          "name": "stdout",
          "text": [
            "[[ 1.40470134 -1.67829535  0.44049074  1.22384706]\n",
            " [-1.72025125  0.3353741  -0.70239129  0.78478022]\n",
            " [ 2.03304747  0.15228336  0.70904449  0.34465494]]\n"
          ]
        }
      ]
    },
    {
      "cell_type": "code",
      "source": [
        "# random integer values specified in range\n",
        "n=np.random.randint(0,10,(3,4))\n",
        "print(n)"
      ],
      "metadata": {
        "colab": {
          "base_uri": "https://localhost:8080/"
        },
        "id": "Y5RUVNQa7E3K",
        "outputId": "508bf19e-cf45-404f-aa04-8a6d9a95e72f"
      },
      "execution_count": null,
      "outputs": [
        {
          "output_type": "stream",
          "name": "stdout",
          "text": [
            "[[1 7 4 3]\n",
            " [1 8 7 5]\n",
            " [1 1 1 8]]\n"
          ]
        }
      ]
    },
    {
      "cell_type": "code",
      "source": [
        "# converting lists into numpy arrays\n",
        "list1=[1,2,3,4,5]\n",
        "n=np.array(list1)\n",
        "print(n)\n",
        "type(n)"
      ],
      "metadata": {
        "colab": {
          "base_uri": "https://localhost:8080/"
        },
        "id": "snTbOdE372x1",
        "outputId": "9ff6ad9c-bd0c-4fff-da7f-f1e27c8d7db8"
      },
      "execution_count": null,
      "outputs": [
        {
          "output_type": "stream",
          "name": "stdout",
          "text": [
            "[1 2 3 4 5]\n"
          ]
        },
        {
          "output_type": "execute_result",
          "data": {
            "text/plain": [
              "numpy.ndarray"
            ]
          },
          "metadata": {},
          "execution_count": 30
        }
      ]
    },
    {
      "cell_type": "markdown",
      "source": [
        "Array properties(numpy)"
      ],
      "metadata": {
        "id": "cFQifOH889rJ"
      }
    },
    {
      "cell_type": "code",
      "source": [
        "arr=np.array([[1,2,3],[1,2,3],[1,2,0]])\n",
        "print(arr)"
      ],
      "metadata": {
        "colab": {
          "base_uri": "https://localhost:8080/"
        },
        "id": "A_A8bHC-9GL1",
        "outputId": "62813de8-658d-4af6-eb73-7f9a9fc5be2c"
      },
      "execution_count": null,
      "outputs": [
        {
          "output_type": "stream",
          "name": "stdout",
          "text": [
            "[[1 2 3]\n",
            " [1 2 3]\n",
            " [1 2 0]]\n"
          ]
        }
      ]
    },
    {
      "cell_type": "code",
      "source": [
        "print(arr.shape) # array dimensions"
      ],
      "metadata": {
        "colab": {
          "base_uri": "https://localhost:8080/"
        },
        "id": "_d-CPNoV95NY",
        "outputId": "e5a20d06-db31-4af4-9e57-2cfbd3b179a6"
      },
      "execution_count": null,
      "outputs": [
        {
          "output_type": "stream",
          "name": "stdout",
          "text": [
            "(3, 3)\n"
          ]
        }
      ]
    },
    {
      "cell_type": "code",
      "source": [
        "print(arr.dtype) # checking datatype of array"
      ],
      "metadata": {
        "colab": {
          "base_uri": "https://localhost:8080/"
        },
        "id": "qeRU3B-q-CAb",
        "outputId": "57c7435d-9ade-4409-9161-60526883aa1e"
      },
      "execution_count": null,
      "outputs": [
        {
          "output_type": "stream",
          "name": "stdout",
          "text": [
            "int64\n"
          ]
        }
      ]
    },
    {
      "cell_type": "code",
      "source": [
        "print(arr.size) # number of elements in array"
      ],
      "metadata": {
        "colab": {
          "base_uri": "https://localhost:8080/"
        },
        "id": "SrJlHGG_-HB_",
        "outputId": "cd299729-1a31-422f-8bc8-07ea6ee0f892"
      },
      "execution_count": null,
      "outputs": [
        {
          "output_type": "stream",
          "name": "stdout",
          "text": [
            "9\n"
          ]
        }
      ]
    },
    {
      "cell_type": "code",
      "source": [
        "print(arr.ndim) # number of dimensions in array"
      ],
      "metadata": {
        "colab": {
          "base_uri": "https://localhost:8080/"
        },
        "id": "J5iPU7p9-L3x",
        "outputId": "7fd8cd7e-4ff7-49c1-eb5d-a197a969747f"
      },
      "execution_count": null,
      "outputs": [
        {
          "output_type": "stream",
          "name": "stdout",
          "text": [
            "2\n"
          ]
        }
      ]
    },
    {
      "cell_type": "markdown",
      "source": [
        "2-D Array Indexing (Accessing elements)"
      ],
      "metadata": {
        "id": "c3dRACr83Cax"
      }
    },
    {
      "cell_type": "code",
      "source": [
        "arr=np.array([[1,2,3],[4,5,6],[7,8,9]])\n",
        "print(arr)"
      ],
      "metadata": {
        "colab": {
          "base_uri": "https://localhost:8080/"
        },
        "id": "3BvzE-YH3Qvm",
        "outputId": "f9d566bd-503c-488c-f5fe-04514babcfd0"
      },
      "execution_count": null,
      "outputs": [
        {
          "output_type": "stream",
          "name": "stdout",
          "text": [
            "[[1 2 3]\n",
            " [4 5 6]\n",
            " [7 8 9]]\n"
          ]
        }
      ]
    },
    {
      "cell_type": "code",
      "source": [
        "# accessing single element\n",
        "print(arr[1,2]) # indexing starts from 0 for rows&columns\n",
        "print(arr[2,2])"
      ],
      "metadata": {
        "colab": {
          "base_uri": "https://localhost:8080/"
        },
        "id": "x-57etjd3neP",
        "outputId": "ceab6ce9-a60f-4951-ea0c-f81ae0c09290"
      },
      "execution_count": null,
      "outputs": [
        {
          "output_type": "stream",
          "name": "stdout",
          "text": [
            "6\n",
            "9\n"
          ]
        }
      ]
    },
    {
      "cell_type": "code",
      "source": [
        "# Accessing whole row\n",
        "print(arr[2,:])                      # last row\n",
        "#Accessing whole column\n",
        "print(arr[:,2])                     #last column"
      ],
      "metadata": {
        "colab": {
          "base_uri": "https://localhost:8080/"
        },
        "id": "j0Sh3-lY4NjO",
        "outputId": "550e3211-3f32-47bc-d1ff-6b0c95632d1d"
      },
      "execution_count": null,
      "outputs": [
        {
          "output_type": "stream",
          "name": "stdout",
          "text": [
            "[7 8 9]\n",
            "[3 6 9]\n"
          ]
        }
      ]
    },
    {
      "cell_type": "code",
      "source": [
        "# Accessing subarray(slicing)\n",
        "print(arr[0:2,0:2],\"\\n\")\n",
        "print(arr[1:3,1:3])"
      ],
      "metadata": {
        "colab": {
          "base_uri": "https://localhost:8080/"
        },
        "id": "9OjpNS1V4vvT",
        "outputId": "14ec31a1-85aa-48cc-e93d-d208bcdb0601"
      },
      "execution_count": null,
      "outputs": [
        {
          "output_type": "stream",
          "name": "stdout",
          "text": [
            "[[1 2]\n",
            " [4 5]] \n",
            "\n",
            "[[5 6]\n",
            " [8 9]]\n"
          ]
        }
      ]
    },
    {
      "cell_type": "code",
      "source": [
        "# Negative indexing\n",
        "print(arr[-1,-1]) #last value"
      ],
      "metadata": {
        "colab": {
          "base_uri": "https://localhost:8080/"
        },
        "id": "aUkggy246Ds_",
        "outputId": "98bd129f-0993-4aa0-bbe7-9cf763a99749"
      },
      "execution_count": null,
      "outputs": [
        {
          "output_type": "stream",
          "name": "stdout",
          "text": [
            "9\n"
          ]
        }
      ]
    },
    {
      "cell_type": "code",
      "source": [
        "# Mathematical operations on numpy\n",
        "a=np.random.randint(1,10,(3,3))\n",
        "b=np.random.randint(10,15,(3,3))\n",
        "print(a,\"\\n\")\n",
        "print(b)"
      ],
      "metadata": {
        "colab": {
          "base_uri": "https://localhost:8080/"
        },
        "id": "JghDSQaF65cm",
        "outputId": "5f7b819e-9b0b-42ff-a30f-8cfa2dbc0e78"
      },
      "execution_count": null,
      "outputs": [
        {
          "output_type": "stream",
          "name": "stdout",
          "text": [
            "[[3 4 6]\n",
            " [3 2 9]\n",
            " [2 8 3]] \n",
            "\n",
            "[[10 11 13]\n",
            " [13 10 13]\n",
            " [13 14 13]]\n"
          ]
        }
      ]
    },
    {
      "cell_type": "code",
      "source": [
        "print(np.add(a,b))             #(a+b) also applicable\n",
        "print(np.subtract(a,b))        #(a-b) also applicable\n",
        "print(np.multiply(a,b))        #(a*b) also applicable\n",
        "print(np.divide(a,b))          #(a/b) also applicable"
      ],
      "metadata": {
        "colab": {
          "base_uri": "https://localhost:8080/"
        },
        "id": "sPuuQ_LW9qgl",
        "outputId": "a4c3521b-79f3-46c1-ced5-8f64f722a65f"
      },
      "execution_count": null,
      "outputs": [
        {
          "output_type": "stream",
          "name": "stdout",
          "text": [
            "[[13 15 19]\n",
            " [16 12 22]\n",
            " [15 22 16]]\n",
            "[[ -7  -7  -7]\n",
            " [-10  -8  -4]\n",
            " [-11  -6 -10]]\n",
            "[[ 30  44  78]\n",
            " [ 39  20 117]\n",
            " [ 26 112  39]]\n",
            "[[0.3        0.36363636 0.46153846]\n",
            " [0.23076923 0.2        0.69230769]\n",
            " [0.15384615 0.57142857 0.23076923]]\n"
          ]
        }
      ]
    },
    {
      "cell_type": "code",
      "source": [
        "# power of elements\n",
        "print(np.power(a,2))"
      ],
      "metadata": {
        "colab": {
          "base_uri": "https://localhost:8080/"
        },
        "id": "S2tUY1_6-KLM",
        "outputId": "52085441-d765-4915-87d2-68453cd4ff9d"
      },
      "execution_count": null,
      "outputs": [
        {
          "output_type": "stream",
          "name": "stdout",
          "text": [
            "[[ 9 16 36]\n",
            " [ 9  4 81]\n",
            " [ 4 64  9]]\n"
          ]
        }
      ]
    },
    {
      "cell_type": "markdown",
      "source": [
        "Array manupilation"
      ],
      "metadata": {
        "id": "BPPJIfy6_vPl"
      }
    },
    {
      "cell_type": "code",
      "source": [
        "print(a)\n",
        "print(a.shape)"
      ],
      "metadata": {
        "colab": {
          "base_uri": "https://localhost:8080/"
        },
        "id": "B7YKXcQR_0XX",
        "outputId": "59335203-7331-4494-c8f9-bf89b940bfc4"
      },
      "execution_count": null,
      "outputs": [
        {
          "output_type": "stream",
          "name": "stdout",
          "text": [
            "[[3 4 6]\n",
            " [3 2 9]\n",
            " [2 8 3]]\n",
            "(3, 3)\n"
          ]
        }
      ]
    },
    {
      "cell_type": "code",
      "source": [
        "# Transpose of matrix\n",
        "print(np.transpose(a)) # both same\n",
        "print(a.T)\n",
        "print(a.shape)"
      ],
      "metadata": {
        "colab": {
          "base_uri": "https://localhost:8080/"
        },
        "id": "INgBodSt_RPd",
        "outputId": "eba865b0-f8aa-4bcd-bacf-9a945b4b7379"
      },
      "execution_count": null,
      "outputs": [
        {
          "output_type": "stream",
          "name": "stdout",
          "text": [
            "[[3 3 2]\n",
            " [4 2 8]\n",
            " [6 9 3]]\n",
            "[[3 3 2]\n",
            " [4 2 8]\n",
            " [6 9 3]]\n",
            "(3, 3)\n"
          ]
        }
      ]
    },
    {
      "cell_type": "code",
      "source": [
        "# reshaping matrix\n",
        "n=np.random.randint(1,10,(2,3))\n",
        "print(n)\n",
        "print(n.shape)"
      ],
      "metadata": {
        "colab": {
          "base_uri": "https://localhost:8080/"
        },
        "id": "yFnbgrJb_nHx",
        "outputId": "ff84360c-b817-4e6e-f94e-79208a40e6c8"
      },
      "execution_count": null,
      "outputs": [
        {
          "output_type": "stream",
          "name": "stdout",
          "text": [
            "[[9 6 4]\n",
            " [2 1 1]]\n",
            "(2, 3)\n"
          ]
        }
      ]
    },
    {
      "cell_type": "code",
      "source": [
        "# reshaping\n",
        "m=n.reshape(3,2)\n",
        "print(m)\n",
        "print(m.shape)"
      ],
      "metadata": {
        "colab": {
          "base_uri": "https://localhost:8080/"
        },
        "id": "AP6ApUkWAimw",
        "outputId": "35f6b1ca-d382-4476-d2be-5e06e1226864"
      },
      "execution_count": null,
      "outputs": [
        {
          "output_type": "stream",
          "name": "stdout",
          "text": [
            "[[9 6]\n",
            " [4 2]\n",
            " [1 1]]\n",
            "(3, 2)\n"
          ]
        }
      ]
    },
    {
      "cell_type": "code",
      "source": [
        "m2=n.reshape(2,3)\n",
        "print(m2)\n",
        "print(m2.shape)"
      ],
      "metadata": {
        "colab": {
          "base_uri": "https://localhost:8080/"
        },
        "id": "OublagW3AvUB",
        "outputId": "a05c9db0-dd51-4e85-af8c-01a50ec70bcb"
      },
      "execution_count": null,
      "outputs": [
        {
          "output_type": "stream",
          "name": "stdout",
          "text": [
            "[[9 6 4]\n",
            " [2 1 1]]\n",
            "(2, 3)\n"
          ]
        }
      ]
    },
    {
      "cell_type": "code",
      "source": [
        "m3=n.reshape(6,1)\n",
        "print(m3)\n",
        "print(m3.shape)\n"
      ],
      "metadata": {
        "colab": {
          "base_uri": "https://localhost:8080/"
        },
        "id": "079R0uM6BBTP",
        "outputId": "01ff5a0a-0321-4111-8370-65e70d283584"
      },
      "execution_count": null,
      "outputs": [
        {
          "output_type": "stream",
          "name": "stdout",
          "text": [
            "[[9]\n",
            " [6]\n",
            " [4]\n",
            " [2]\n",
            " [1]\n",
            " [1]]\n",
            "(6, 1)\n"
          ]
        }
      ]
    },
    {
      "cell_type": "code",
      "source": [
        "print(np.dot(a,b))"
      ],
      "metadata": {
        "colab": {
          "base_uri": "https://localhost:8080/"
        },
        "id": "ght2kiSfENmA",
        "outputId": "0824f4c2-389c-48d0-fcb5-f3510b4d8eb1"
      },
      "execution_count": null,
      "outputs": [
        {
          "output_type": "stream",
          "name": "stdout",
          "text": [
            "[[160 157 169]\n",
            " [173 179 182]\n",
            " [163 144 169]]\n"
          ]
        }
      ]
    },
    {
      "cell_type": "code",
      "source": [
        "n=np.array([1,2,3,4,5])\n",
        "print(n)\n",
        "print(np.max(n))\n",
        "print(np.min(n))\n",
        "print(np.mean(n))\n",
        "print(np.median(n))\n",
        "print(np.std(n))\n",
        "print(np.var(n))"
      ],
      "metadata": {
        "colab": {
          "base_uri": "https://localhost:8080/"
        },
        "id": "cfh3P-pN_Mrx",
        "outputId": "4f0579c8-4f6e-4bc7-c14c-1efb91435ace"
      },
      "execution_count": null,
      "outputs": [
        {
          "output_type": "stream",
          "name": "stdout",
          "text": [
            "[1 2 3 4 5]\n",
            "5\n",
            "1\n",
            "3.0\n",
            "3.0\n",
            "1.4142135623730951\n",
            "2.0\n"
          ]
        }
      ]
    }
  ]
}