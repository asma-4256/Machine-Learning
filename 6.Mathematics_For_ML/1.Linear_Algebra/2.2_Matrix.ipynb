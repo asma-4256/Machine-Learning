{
  "nbformat": 4,
  "nbformat_minor": 0,
  "metadata": {
    "colab": {
      "provenance": []
    },
    "kernelspec": {
      "name": "python3",
      "display_name": "Python 3"
    },
    "language_info": {
      "name": "python"
    }
  },
  "cells": [
    {
      "cell_type": "code",
      "execution_count": null,
      "metadata": {
        "id": "Wl991uPLNo52"
      },
      "outputs": [],
      "source": [
        "import numpy as np"
      ]
    },
    {
      "cell_type": "markdown",
      "source": [
        "Creating a matrix using numpy"
      ],
      "metadata": {
        "id": "L2wC4iwMNyfK"
      }
    },
    {
      "cell_type": "code",
      "source": [
        "mat=np.array([[2,3],[3,4]])\n",
        "print(mat)"
      ],
      "metadata": {
        "colab": {
          "base_uri": "https://localhost:8080/"
        },
        "id": "AqyRIBXzN2C_",
        "outputId": "6ac5a08b-7444-44e0-9aaf-31aeb52a6027"
      },
      "execution_count": null,
      "outputs": [
        {
          "output_type": "stream",
          "name": "stdout",
          "text": [
            "[[2 3]\n",
            " [3 4]]\n"
          ]
        }
      ]
    },
    {
      "cell_type": "code",
      "source": [
        "mat.shape"
      ],
      "metadata": {
        "colab": {
          "base_uri": "https://localhost:8080/"
        },
        "id": "sIpiyhfBOBrG",
        "outputId": "927f6c9d-db18-4b5f-fcdf-e70b6b3da729"
      },
      "execution_count": null,
      "outputs": [
        {
          "output_type": "execute_result",
          "data": {
            "text/plain": [
              "(2, 2)"
            ]
          },
          "metadata": {},
          "execution_count": 4
        }
      ]
    },
    {
      "cell_type": "code",
      "source": [
        "mat_2=np.array([[20,34,45],[33,45,65],[34,45,75]])\n",
        "print(mat_2)"
      ],
      "metadata": {
        "colab": {
          "base_uri": "https://localhost:8080/"
        },
        "id": "y53pN_McOM_t",
        "outputId": "c40494ae-02d2-47d2-e4e3-880a3e89f07f"
      },
      "execution_count": null,
      "outputs": [
        {
          "output_type": "stream",
          "name": "stdout",
          "text": [
            "[[20 34 45]\n",
            " [33 45 65]\n",
            " [34 45 75]]\n"
          ]
        }
      ]
    },
    {
      "cell_type": "code",
      "source": [
        "mat_2.shape"
      ],
      "metadata": {
        "colab": {
          "base_uri": "https://localhost:8080/"
        },
        "id": "ruR_vnmqOYhT",
        "outputId": "0ecb9ac5-3cce-4b6b-a1ba-072bf3882fe4"
      },
      "execution_count": null,
      "outputs": [
        {
          "output_type": "execute_result",
          "data": {
            "text/plain": [
              "(3, 3)"
            ]
          },
          "metadata": {},
          "execution_count": 6
        }
      ]
    },
    {
      "cell_type": "markdown",
      "source": [
        "Matrices with random values"
      ],
      "metadata": {
        "id": "83sy1oUbOj60"
      }
    },
    {
      "cell_type": "code",
      "source": [
        "rand_mat=np.random.rand(3,4)\n",
        "print(rand_mat)"
      ],
      "metadata": {
        "colab": {
          "base_uri": "https://localhost:8080/"
        },
        "id": "e2Y4r5LQOn51",
        "outputId": "7b9a9165-4dee-4e8b-8d3e-734ad988bc20"
      },
      "execution_count": null,
      "outputs": [
        {
          "output_type": "stream",
          "name": "stdout",
          "text": [
            "[[0.45296873 0.04140281 0.78162236 0.94399602]\n",
            " [0.04838539 0.25910494 0.34724608 0.53448247]\n",
            " [0.45028148 0.94916194 0.442858   0.47228278]]\n"
          ]
        }
      ]
    },
    {
      "cell_type": "code",
      "source": [
        "# creating matrix with random integers\n",
        "rand_mat_int=np.random.randint(1,10,(3,4))\n",
        "print(rand_mat_int)"
      ],
      "metadata": {
        "colab": {
          "base_uri": "https://localhost:8080/"
        },
        "id": "84s3Gnc6O0LV",
        "outputId": "9a4d309c-4b79-484f-997b-6bf0d34fc630"
      },
      "execution_count": null,
      "outputs": [
        {
          "output_type": "stream",
          "name": "stdout",
          "text": [
            "[[7 7 2 1]\n",
            " [3 7 7 3]\n",
            " [6 3 6 4]]\n"
          ]
        }
      ]
    },
    {
      "cell_type": "markdown",
      "source": [
        "Matrix with ones"
      ],
      "metadata": {
        "id": "Y248igpqPEYC"
      }
    },
    {
      "cell_type": "code",
      "source": [
        "mat_ones=np.ones((2,4))\n",
        "print(mat_ones)"
      ],
      "metadata": {
        "colab": {
          "base_uri": "https://localhost:8080/"
        },
        "id": "aZOehsjqPBtj",
        "outputId": "2c45a5c8-c063-4885-e942-785c5482a404"
      },
      "execution_count": null,
      "outputs": [
        {
          "output_type": "stream",
          "name": "stdout",
          "text": [
            "[[1. 1. 1. 1.]\n",
            " [1. 1. 1. 1.]]\n"
          ]
        }
      ]
    },
    {
      "cell_type": "code",
      "source": [
        "# matrix with zeros\n",
        "mat_zeros=np.zeros((2,4),dtype=int)\n",
        "print(mat_zeros)"
      ],
      "metadata": {
        "colab": {
          "base_uri": "https://localhost:8080/"
        },
        "id": "BA3ENfMfPZ1U",
        "outputId": "162a0b97-3af5-4dfd-a9b4-4891ec303e8e"
      },
      "execution_count": null,
      "outputs": [
        {
          "output_type": "stream",
          "name": "stdout",
          "text": [
            "[[0 0 0 0]\n",
            " [0 0 0 0]]\n"
          ]
        }
      ]
    },
    {
      "cell_type": "markdown",
      "source": [
        "Identity matrix"
      ],
      "metadata": {
        "id": "LrhTfyu8PnSS"
      }
    },
    {
      "cell_type": "code",
      "source": [
        "mat_iden=np.eye(3,3,dtype=int)\n",
        "print(mat_iden)"
      ],
      "metadata": {
        "colab": {
          "base_uri": "https://localhost:8080/"
        },
        "id": "GxTL5gE-PkWK",
        "outputId": "2490a282-29aa-4cbd-e741-d98de2b46f20"
      },
      "execution_count": null,
      "outputs": [
        {
          "output_type": "stream",
          "name": "stdout",
          "text": [
            "[[1 0 0]\n",
            " [0 1 0]\n",
            " [0 0 1]]\n"
          ]
        }
      ]
    },
    {
      "cell_type": "markdown",
      "source": [
        "Transpose of matrix"
      ],
      "metadata": {
        "id": "1n_7TT8oQR_r"
      }
    },
    {
      "cell_type": "code",
      "source": [
        "x=np.random.randint(1,10,(3,4))\n",
        "print(x)"
      ],
      "metadata": {
        "colab": {
          "base_uri": "https://localhost:8080/"
        },
        "id": "FeVlrh_fQU3O",
        "outputId": "5cffc37a-bc0a-4919-9237-50ba3547fcde"
      },
      "execution_count": null,
      "outputs": [
        {
          "output_type": "stream",
          "name": "stdout",
          "text": [
            "[[4 4 8 2]\n",
            " [1 7 9 8]\n",
            " [5 5 9 5]]\n"
          ]
        }
      ]
    },
    {
      "cell_type": "code",
      "source": [
        "trans_x=np.transpose(x)\n",
        "print(trans_x)"
      ],
      "metadata": {
        "colab": {
          "base_uri": "https://localhost:8080/"
        },
        "id": "bP3y-aK9Qb3q",
        "outputId": "da5a8d53-4248-4a49-fd79-d072762849ca"
      },
      "execution_count": null,
      "outputs": [
        {
          "output_type": "stream",
          "name": "stdout",
          "text": [
            "[[4 1 5]\n",
            " [4 7 5]\n",
            " [8 9 9]\n",
            " [2 8 5]]\n"
          ]
        }
      ]
    },
    {
      "cell_type": "code",
      "source": [
        "#Importng numpy library\n",
        "import numpy as np"
      ],
      "metadata": {
        "id": "PwkTOC8eYAtv"
      },
      "execution_count": null,
      "outputs": []
    },
    {
      "cell_type": "code",
      "source": [
        "a=np.array([[2,2],[3,4]])\n",
        "b=np.array([[3,4],[4,5]])\n",
        "print(\"Sum is \\n\",a+b)"
      ],
      "metadata": {
        "colab": {
          "base_uri": "https://localhost:8080/"
        },
        "id": "y2sNaJg5T6Y-",
        "outputId": "2fbb9439-577d-46a9-819f-9bcc3302ae32"
      },
      "execution_count": null,
      "outputs": [
        {
          "output_type": "stream",
          "name": "stdout",
          "text": [
            "Sum is \n",
            " [[5 6]\n",
            " [7 9]]\n"
          ]
        }
      ]
    },
    {
      "cell_type": "code",
      "source": [
        "a=np.random.randint(1,10,(3,3))\n",
        "b=np.random.randint(1,10,(3,4))\n",
        "print(\"Sum is/n\",a+b)"
      ],
      "metadata": {
        "colab": {
          "base_uri": "https://localhost:8080/",
          "height": 176
        },
        "id": "RdZl_8liZB9U",
        "outputId": "a0f3934c-6d6c-4bfb-8b1e-b0d98493a0a8"
      },
      "execution_count": null,
      "outputs": [
        {
          "output_type": "error",
          "ename": "ValueError",
          "evalue": "operands could not be broadcast together with shapes (3,3) (3,4) ",
          "traceback": [
            "\u001b[0;31m---------------------------------------------------------------------------\u001b[0m",
            "\u001b[0;31mValueError\u001b[0m                                Traceback (most recent call last)",
            "\u001b[0;32m<ipython-input-7-2d072be29d3a>\u001b[0m in \u001b[0;36m<cell line: 3>\u001b[0;34m()\u001b[0m\n\u001b[1;32m      1\u001b[0m \u001b[0ma\u001b[0m\u001b[0;34m=\u001b[0m\u001b[0mnp\u001b[0m\u001b[0;34m.\u001b[0m\u001b[0mrandom\u001b[0m\u001b[0;34m.\u001b[0m\u001b[0mrandint\u001b[0m\u001b[0;34m(\u001b[0m\u001b[0;36m1\u001b[0m\u001b[0;34m,\u001b[0m\u001b[0;36m10\u001b[0m\u001b[0;34m,\u001b[0m\u001b[0;34m(\u001b[0m\u001b[0;36m3\u001b[0m\u001b[0;34m,\u001b[0m\u001b[0;36m3\u001b[0m\u001b[0;34m)\u001b[0m\u001b[0;34m)\u001b[0m\u001b[0;34m\u001b[0m\u001b[0;34m\u001b[0m\u001b[0m\n\u001b[1;32m      2\u001b[0m \u001b[0mb\u001b[0m\u001b[0;34m=\u001b[0m\u001b[0mnp\u001b[0m\u001b[0;34m.\u001b[0m\u001b[0mrandom\u001b[0m\u001b[0;34m.\u001b[0m\u001b[0mrandint\u001b[0m\u001b[0;34m(\u001b[0m\u001b[0;36m1\u001b[0m\u001b[0;34m,\u001b[0m\u001b[0;36m10\u001b[0m\u001b[0;34m,\u001b[0m\u001b[0;34m(\u001b[0m\u001b[0;36m3\u001b[0m\u001b[0;34m,\u001b[0m\u001b[0;36m4\u001b[0m\u001b[0;34m)\u001b[0m\u001b[0;34m)\u001b[0m\u001b[0;34m\u001b[0m\u001b[0;34m\u001b[0m\u001b[0m\n\u001b[0;32m----> 3\u001b[0;31m \u001b[0mprint\u001b[0m\u001b[0;34m(\u001b[0m\u001b[0;34m\"Sum is/n\"\u001b[0m\u001b[0;34m,\u001b[0m\u001b[0ma\u001b[0m\u001b[0;34m+\u001b[0m\u001b[0mb\u001b[0m\u001b[0;34m)\u001b[0m\u001b[0;34m\u001b[0m\u001b[0;34m\u001b[0m\u001b[0m\n\u001b[0m",
            "\u001b[0;31mValueError\u001b[0m: operands could not be broadcast together with shapes (3,3) (3,4) "
          ]
        }
      ]
    },
    {
      "cell_type": "markdown",
      "source": [
        "We get the error because a & b shapes are not same"
      ],
      "metadata": {
        "id": "HyO5C5lsapyJ"
      }
    },
    {
      "cell_type": "code",
      "source": [
        "# with same shapes\n",
        "a=np.random.randint(1,10,(3,4))\n",
        "b=np.random.randint(1,10,(3,4))\n",
        "print(a)\n",
        "print(\"\")\n",
        "print(b)"
      ],
      "metadata": {
        "colab": {
          "base_uri": "https://localhost:8080/"
        },
        "id": "zQTzhvULa33I",
        "outputId": "f12b7489-cbca-40b4-a9c6-8113df8e8ce6"
      },
      "execution_count": null,
      "outputs": [
        {
          "output_type": "stream",
          "name": "stdout",
          "text": [
            "[[1 6 1 7]\n",
            " [5 1 8 1]\n",
            " [2 1 6 7]]\n",
            "\n",
            "[[4 7 1 7]\n",
            " [3 4 7 4]\n",
            " [8 6 5 1]]\n"
          ]
        }
      ]
    },
    {
      "cell_type": "code",
      "source": [
        "sum=np.add(a,b)\n",
        "print(sum)"
      ],
      "metadata": {
        "colab": {
          "base_uri": "https://localhost:8080/"
        },
        "id": "4Q7pOqMZbw6K",
        "outputId": "830699e1-4b16-4de2-e431-8596aa40a861"
      },
      "execution_count": null,
      "outputs": [
        {
          "output_type": "stream",
          "name": "stdout",
          "text": [
            "[[ 5 13  2 14]\n",
            " [ 8  5 15  5]\n",
            " [10  7 11  8]]\n"
          ]
        }
      ]
    },
    {
      "cell_type": "markdown",
      "source": [
        "Matrix SUbtraction"
      ],
      "metadata": {
        "id": "-eENRg7Md9Jr"
      }
    },
    {
      "cell_type": "code",
      "source": [
        "a=np.array([[5,3],[3,4]])\n",
        "b=np.array([[3,4],[4,5]])\n",
        "print(\"Difference is \\n\",a-b)"
      ],
      "metadata": {
        "colab": {
          "base_uri": "https://localhost:8080/"
        },
        "id": "QlJtQ46ycOZI",
        "outputId": "fd035dab-a825-432a-aded-9d2d0837ce88"
      },
      "execution_count": null,
      "outputs": [
        {
          "output_type": "stream",
          "name": "stdout",
          "text": [
            "Difference is \n",
            " [[ 2 -1]\n",
            " [-1 -1]]\n"
          ]
        }
      ]
    },
    {
      "cell_type": "code",
      "source": [
        "a=np.random.randint(1,10,(3,3))\n",
        "b=np.random.randint(1,10,(3,3))\n",
        "print(a)\n",
        "print(\"\")\n",
        "print(b)"
      ],
      "metadata": {
        "colab": {
          "base_uri": "https://localhost:8080/"
        },
        "id": "fWE2WC0VeKI7",
        "outputId": "01142aa3-a457-481b-8f51-e190272e4fb8"
      },
      "execution_count": null,
      "outputs": [
        {
          "output_type": "stream",
          "name": "stdout",
          "text": [
            "[[7 1 7]\n",
            " [4 7 3]\n",
            " [2 6 5]]\n",
            "\n",
            "[[3 7 4]\n",
            " [2 3 8]\n",
            " [3 3 6]]\n"
          ]
        }
      ]
    },
    {
      "cell_type": "code",
      "source": [
        "sub=np.subtract(a,b)\n",
        "print(sub)"
      ],
      "metadata": {
        "colab": {
          "base_uri": "https://localhost:8080/"
        },
        "id": "xvRw0LC9e4_G",
        "outputId": "89995ac0-fcb5-4435-e6e6-475621f9a127"
      },
      "execution_count": null,
      "outputs": [
        {
          "output_type": "stream",
          "name": "stdout",
          "text": [
            "[[ 4 -6  3]\n",
            " [ 2  4 -5]\n",
            " [-1  3 -1]]\n"
          ]
        }
      ]
    },
    {
      "cell_type": "markdown",
      "source": [
        "Matrix multiplication"
      ],
      "metadata": {
        "id": "eG13MhyjflNq"
      }
    },
    {
      "cell_type": "code",
      "source": [
        "a=np.random.randint(1,10,(3,4))\n",
        "b=np.random.randint(1,10,(4,3))\n",
        "print(a)\n",
        "print(\"\")\n",
        "print(b)"
      ],
      "metadata": {
        "colab": {
          "base_uri": "https://localhost:8080/"
        },
        "id": "H5_hVWVHfMn8",
        "outputId": "11d157c5-a469-4288-9c80-df6061c9fdea"
      },
      "execution_count": null,
      "outputs": [
        {
          "output_type": "stream",
          "name": "stdout",
          "text": [
            "[[5 3 8 7]\n",
            " [8 1 2 2]\n",
            " [5 5 9 4]]\n",
            "\n",
            "[[5 8 8]\n",
            " [9 3 1]\n",
            " [8 3 6]\n",
            " [4 4 2]]\n"
          ]
        }
      ]
    },
    {
      "cell_type": "code",
      "source": [
        "mul=np.dot(a,b)\n",
        "print(mul)"
      ],
      "metadata": {
        "colab": {
          "base_uri": "https://localhost:8080/"
        },
        "id": "62OLbiqzfwsF",
        "outputId": "a4d38eba-193d-45bf-fb13-aa419a832407"
      },
      "execution_count": null,
      "outputs": [
        {
          "output_type": "stream",
          "name": "stdout",
          "text": [
            "[[144 101 105]\n",
            " [ 73  81  81]\n",
            " [158  98 107]]\n"
          ]
        }
      ]
    },
    {
      "cell_type": "markdown",
      "source": [
        "Element wise matrix multiplication"
      ],
      "metadata": {
        "id": "D4fDLYrhf3q-"
      }
    },
    {
      "cell_type": "code",
      "source": [
        "a=np.random.randint(1,10,(3,3))\n",
        "b=np.random.randint(1,10,(3,3))\n",
        "print(a)\n",
        "print(\"\")\n",
        "print(b)"
      ],
      "metadata": {
        "colab": {
          "base_uri": "https://localhost:8080/"
        },
        "id": "ABm7uRPwgDQG",
        "outputId": "c9e89cc2-ce40-4188-f1d3-eb7c809735ee"
      },
      "execution_count": null,
      "outputs": [
        {
          "output_type": "stream",
          "name": "stdout",
          "text": [
            "[[3 6 1]\n",
            " [6 7 7]\n",
            " [1 9 2]]\n",
            "\n",
            "[[8 7 4]\n",
            " [1 3 1]\n",
            " [2 7 8]]\n"
          ]
        }
      ]
    },
    {
      "cell_type": "code",
      "source": [
        "mult=np.multiply(a,b)\n",
        "print(mult)"
      ],
      "metadata": {
        "colab": {
          "base_uri": "https://localhost:8080/"
        },
        "id": "JbOI8PtWgHO0",
        "outputId": "40e192d1-11ad-403a-aed0-f77e40466b4a"
      },
      "execution_count": null,
      "outputs": [
        {
          "output_type": "stream",
          "name": "stdout",
          "text": [
            "[[24 42  4]\n",
            " [ 6 21  7]\n",
            " [ 2 63 16]]\n"
          ]
        }
      ]
    },
    {
      "cell_type": "markdown",
      "source": [
        "Multiplication=>np.dot function\n",
        "\n",
        "Elementwise multiplication=>np.multiply(like sum)"
      ],
      "metadata": {
        "id": "0OokERHGhEP-"
      }
    }
  ]
}