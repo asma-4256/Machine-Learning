{
  "cells": [
    {
      "cell_type": "markdown",
      "metadata": {
        "id": "eByaEM34Nag3"
      },
      "source": [
        "Operators in python :-\n",
        "\n",
        "  Operators are used to perform operations on variables & values\n",
        "\n",
        "  Python divides the operator in following groups:\n",
        "\n",
        "\n",
        "1.   Arithmetic operators\n",
        "2.   Assiginment operators\n",
        "\n",
        "1.   Comparision operators\n",
        "2.   Logical operators\n",
        "\n",
        "1.   Identity operators\n",
        "2.   Membership operators\n",
        "\n",
        "1.   Bitwise operators\n",
        "\n",
        "\n",
        "\n",
        "\n"
      ]
    },
    {
      "cell_type": "markdown",
      "metadata": {
        "id": "dqDg6pWpPRGB"
      },
      "source": [
        "\n",
        "\n",
        "*   Arithmetic operators\n",
        "\n",
        "\n"
      ]
    },
    {
      "cell_type": "code",
      "execution_count": null,
      "metadata": {
        "colab": {
          "base_uri": "https://localhost:8080/"
        },
        "id": "VYSij80KPYkH",
        "outputId": "e4120729-d6b5-432f-91a1-90fd4917eb0b"
      },
      "outputs": [
        {
          "name": "stdout",
          "output_type": "stream",
          "text": [
            "sum is  11\n",
            "Difference is  -1\n",
            "Product is  20\n",
            "Quotient is  0.8\n",
            "Remainder is  4\n",
            "Exponent is  1024\n",
            "Floor Division is  0\n"
          ]
        }
      ],
      "source": [
        "# Addition\n",
        "x=5\n",
        "y=6\n",
        "sum=x+y\n",
        "print(\"sum is \",sum)\n",
        "\n",
        "# Subtraction\n",
        "x=5\n",
        "y=6\n",
        "sub=x-y\n",
        "print(\"Difference is \",sub)\n",
        "\n",
        "# Multpliction\n",
        "x=4\n",
        "y=5\n",
        "mul=x*y\n",
        "print(\"Product is \",mul)\n",
        "\n",
        "# Division\n",
        "quo=x/y\n",
        "print(\"Quotient is \",quo)\n",
        "\n",
        "#Modulus\n",
        "rem=x%y\n",
        "print(\"Remainder is \",rem)\n",
        "\n",
        "# Exponent\n",
        "exp=x**y\n",
        "print(\"Exponent is \",exp)\n",
        "\n",
        "# Floor Division\n",
        "floor=x//y\n",
        "print(\"Floor Division is \",floor)   # rounds the result down to the nearest whole number\n"
      ]
    },
    {
      "cell_type": "markdown",
      "metadata": {
        "id": "nz-vH3eISBwI"
      },
      "source": [
        "\n",
        "\n",
        "*   Assiginment operators\n",
        "\n",
        "    +=\n",
        "\n",
        "    -=\n",
        "\n",
        "    *=\n",
        "\n",
        "    **=\n",
        "\n",
        "    /=\n",
        "\n",
        "    %=\n",
        "\n",
        "\n"
      ]
    },
    {
      "cell_type": "code",
      "execution_count": null,
      "metadata": {
        "colab": {
          "base_uri": "https://localhost:8080/"
        },
        "id": "p2K8KyxoSWXR",
        "outputId": "e76ce2b2-d33c-419f-d0f1-34040f11edfc"
      },
      "outputs": [
        {
          "name": "stdout",
          "output_type": "stream",
          "text": [
            "5\n",
            "10\n"
          ]
        }
      ],
      "source": [
        "a=5 # 5 is assigned to a\n",
        "print(a)\n",
        "a+=5 # a=a+5 # a*=5\n",
        "print(a)"
      ]
    },
    {
      "cell_type": "markdown",
      "metadata": {
        "id": "p6vqr0GfSlNl"
      },
      "source": [
        "\n",
        "\n",
        "*   Comparision operators\n",
        "\n",
        "\n",
        "\n",
        "\n"
      ]
    },
    {
      "cell_type": "code",
      "execution_count": null,
      "metadata": {
        "colab": {
          "base_uri": "https://localhost:8080/"
        },
        "id": "G0D_0Rq8Sq_O",
        "outputId": "a68ab7e7-ff87-49cd-ccdb-7a62c9856846"
      },
      "outputs": [
        {
          "name": "stdout",
          "output_type": "stream",
          "text": [
            "False\n",
            "True\n",
            "False\n",
            "True\n",
            "False\n",
            "True\n"
          ]
        }
      ],
      "source": [
        "x=5\n",
        "y=8\n",
        "print(x==y)    # equal\n",
        "print(x!=y)    # not equal\n",
        "print(x>y)     # Greater than\n",
        "print(x<y)     # Less than\n",
        "print(x>=y)    # greater than or equal to\n",
        "print(x<=y)    # Less than or equal to"
      ]
    },
    {
      "cell_type": "markdown",
      "metadata": {
        "id": "2wRmeifkT4op"
      },
      "source": [
        "\n",
        "\n",
        "*   Logical operators\n",
        "\n",
        "      *   and\n",
        "      *   or\n",
        "      *   not\n",
        "\n"
      ]
    },
    {
      "cell_type": "code",
      "execution_count": null,
      "metadata": {
        "colab": {
          "base_uri": "https://localhost:8080/"
        },
        "id": "MpAjExRKViGQ",
        "outputId": "dd83b298-32df-42c3-adff-a5871901e22b"
      },
      "outputs": [
        {
          "name": "stdout",
          "output_type": "stream",
          "text": [
            "False\n",
            "True\n",
            "False\n"
          ]
        }
      ],
      "source": [
        "a=10\n",
        "print(a>20 and a<50)  # returns true if both statements are true\n",
        "print(a>30 or a<60) # returns true if atleast one statement is true\n",
        "print(not(a>8 and a<20))"
      ]
    },
    {
      "cell_type": "markdown",
      "metadata": {
        "id": "Ndxy505GWD6e"
      },
      "source": [
        "\n",
        "\n",
        "*   Identity operators\n",
        "       \n",
        "     *   is\n",
        "     *   is not\n",
        "\n",
        "\n"
      ]
    },
    {
      "cell_type": "code",
      "execution_count": null,
      "metadata": {
        "colab": {
          "base_uri": "https://localhost:8080/"
        },
        "id": "1ox2uRgrWRl0",
        "outputId": "d5368c01-e5a7-4f01-f44e-fbe2f11f686d"
      },
      "outputs": [
        {
          "name": "stdout",
          "output_type": "stream",
          "text": [
            "True\n",
            "False\n"
          ]
        }
      ],
      "source": [
        "x=5\n",
        "y=5\n",
        "print(x is y)\n",
        "print(x is not y)"
      ]
    },
    {
      "cell_type": "markdown",
      "metadata": {
        "id": "pzInpY7TWlFB"
      },
      "source": [
        "\n",
        "\n",
        "*   Membership operator\n",
        "      *   in\n",
        "      *   not in\n",
        "\n",
        "\n",
        "\n",
        "\n"
      ]
    },
    {
      "cell_type": "code",
      "execution_count": null,
      "metadata": {
        "colab": {
          "base_uri": "https://localhost:8080/"
        },
        "id": "ji8uEiXWWwb6",
        "outputId": "785638ec-f6b9-4453-8ed2-24512a89b43c"
      },
      "outputs": [
        {
          "name": "stdout",
          "output_type": "stream",
          "text": [
            "True\n",
            "True\n"
          ]
        }
      ],
      "source": [
        "a=5\n",
        "b=6\n",
        "c=[1,2,3,4,5]\n",
        "print(a in c)\n",
        "print(b not in c)"
      ]
    },
    {
      "cell_type": "markdown",
      "metadata": {
        "id": "32hnE7_mXkN4"
      },
      "source": [
        "\n",
        "\n",
        "*   Bitwise operator\n",
        "\n"
      ]
    },
    {
      "cell_type": "code",
      "execution_count": null,
      "metadata": {
        "colab": {
          "base_uri": "https://localhost:8080/"
        },
        "id": "6mlaGh8RXnoE",
        "outputId": "2e64c561-5836-4db7-c95c-e05624dda906"
      },
      "outputs": [
        {
          "name": "stdout",
          "output_type": "stream",
          "text": [
            "0\n",
            "14\n",
            "-11\n",
            "40\n",
            "2\n"
          ]
        }
      ],
      "source": [
        "# Bitwise AND(&)\n",
        "x=10\n",
        "y=4\n",
        "print(x&y)\n",
        "\n",
        "# Bitwise OR(|)\n",
        "x=10\n",
        "y=4\n",
        "print(x|y)\n",
        "\n",
        "# Bitwise NOT(~)\n",
        "z= ~x # iverts bits of operand\n",
        "print(z) # 2's compliment of x\n",
        "\n",
        "# left shift(<<)\n",
        "x=10\n",
        "print(x<<2)  # shifts the bits of operand to left by 10 positions\n",
        "\n",
        "# right shift(>>)\n",
        "x=10\n",
        "print(x>>2)  # shifts the bits of operand to right by 10 positions"
      ]
    }
  ],
  "metadata": {
    "colab": {
      "provenance": []
    },
    "kernelspec": {
      "display_name": "Python 3",
      "name": "python3"
    },
    "language_info": {
      "name": "python"
    }
  },
  "nbformat": 4,
  "nbformat_minor": 0
}
