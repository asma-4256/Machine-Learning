{
  "cells": [
    {
      "cell_type": "markdown",
      "metadata": {
        "id": "9pRLhs8C8-kA"
      },
      "source": [
        "Python basics"
      ]
    },
    {
      "cell_type": "code",
      "execution_count": null,
      "metadata": {
        "colab": {
          "base_uri": "https://localhost:8080/"
        },
        "id": "2t9r3Fnk9DaV",
        "outputId": "d387b31d-6d11-4adc-a568-debe821c1882"
      },
      "outputs": [
        {
          "name": "stdout",
          "output_type": "stream",
          "text": [
            "Starting from Basics\n"
          ]
        }
      ],
      "source": [
        "# To print the statement use \"print\"\n",
        "print(\"Starting from Basics\")"
      ]
    },
    {
      "cell_type": "markdown",
      "metadata": {
        "id": "A00texag9juU"
      },
      "source": [
        "Variables"
      ]
    },
    {
      "cell_type": "code",
      "execution_count": null,
      "metadata": {
        "colab": {
          "base_uri": "https://localhost:8080/"
        },
        "id": "DkXYQvo39Zk9",
        "outputId": "5876b095-97d2-45a1-b1e2-a0e97584bc7d"
      },
      "outputs": [
        {
          "name": "stdout",
          "output_type": "stream",
          "text": [
            "10\n"
          ]
        }
      ],
      "source": [
        "value=10\n",
        "print(value)"
      ]
    },
    {
      "cell_type": "code",
      "execution_count": null,
      "metadata": {
        "colab": {
          "base_uri": "https://localhost:8080/"
        },
        "id": "N1UsjH9j9_gm",
        "outputId": "1349f63f-2caa-4b15-ca4f-334b78e1c6e3"
      },
      "outputs": [
        {
          "name": "stdout",
          "output_type": "stream",
          "text": [
            "10\n",
            "10\n",
            "10\n"
          ]
        }
      ],
      "source": [
        "value1=value2=value3=10\n",
        "print(value1)\n",
        "print(value2)\n",
        "print(value3)\n"
      ]
    },
    {
      "cell_type": "code",
      "execution_count": null,
      "metadata": {
        "colab": {
          "base_uri": "https://localhost:8080/"
        },
        "id": "ynkYbLpZ-ctv",
        "outputId": "fb3173b5-77e5-46bc-a7ea-87ee6c7bc982"
      },
      "outputs": [
        {
          "name": "stdout",
          "output_type": "stream",
          "text": [
            "value\n",
            "must\n",
            "string\n"
          ]
        }
      ],
      "source": [
        "value1,value2,value3=\"value\",\"must\",\"string\"\n",
        "print(value1)\n",
        "print(value2)\n",
        "print(value3)\n"
      ]
    },
    {
      "cell_type": "markdown",
      "metadata": {
        "id": "pmXExQqZ-s1a"
      },
      "source": [
        "Input Function"
      ]
    },
    {
      "cell_type": "code",
      "execution_count": null,
      "metadata": {
        "colab": {
          "base_uri": "https://localhost:8080/"
        },
        "id": "j1DwP-gh-v1e",
        "outputId": "954786f5-44c7-4f2a-fd73-43a5868e1086"
      },
      "outputs": [
        {
          "name": "stdout",
          "output_type": "stream",
          "text": [
            "Enter a value: 90\n",
            "Enter b value: 90\n",
            "Concatination 9090\n"
          ]
        }
      ],
      "source": [
        "a=input(\"Enter a value: \") #This takes the input as int\n",
        "b=input(\"Enter b value: \")\n",
        "print(\"Concatination\" ,a+b)"
      ]
    },
    {
      "cell_type": "code",
      "execution_count": null,
      "metadata": {
        "colab": {
          "base_uri": "https://localhost:8080/"
        },
        "id": "AuhgSSC5BJ9e",
        "outputId": "d81fc1ac-bfe1-4a43-a3b3-346250657e2c"
      },
      "outputs": [
        {
          "name": "stdout",
          "output_type": "stream",
          "text": [
            "Enter a value: 90\n",
            "Enter b value: 90\n",
            "Sum 180\n"
          ]
        }
      ],
      "source": [
        "a=int(input(\"Enter a value: \")) # This takes the input as int\n",
        "b=int(input(\"Enter b value: \"))\n",
        "print(\"Sum:\" ,a+b)"
      ]
    },
    {
      "cell_type": "markdown",
      "metadata": {
        "id": "h8JESrWvCG8-"
      },
      "source": [
        "Data types"
      ]
    },
    {
      "cell_type": "code",
      "execution_count": null,
      "metadata": {
        "colab": {
          "base_uri": "https://localhost:8080/"
        },
        "id": "0cZiIw25BiCk",
        "outputId": "77b1d9a3-150d-468c-dd54-2971e1cec10e"
      },
      "outputs": [
        {
          "name": "stdout",
          "output_type": "stream",
          "text": [
            "<class 'int'>\n",
            "10.0\n"
          ]
        }
      ],
      "source": [
        "# int\n",
        "a=10\n",
        "print(type(a))\n",
        "# Conversion of one datatype to another (int-float)\n",
        "print(float(a))"
      ]
    },
    {
      "cell_type": "code",
      "execution_count": null,
      "metadata": {
        "colab": {
          "base_uri": "https://localhost:8080/"
        },
        "id": "6ViosXtfCVki",
        "outputId": "b3b2ef85-50f9-4de9-bbf5-39a86db57423"
      },
      "outputs": [
        {
          "name": "stdout",
          "output_type": "stream",
          "text": [
            "<class 'float'>\n",
            "3\n"
          ]
        }
      ],
      "source": [
        "# float\n",
        "b=3.4\n",
        "print(type(b))\n",
        "# Conversion of one datatype to another (float-int)\n",
        "print(int(b))"
      ]
    },
    {
      "cell_type": "code",
      "execution_count": null,
      "metadata": {
        "colab": {
          "base_uri": "https://localhost:8080/"
        },
        "id": "c6a5gSW9CrD6",
        "outputId": "9a4be525-2be6-40d1-d16e-fb7dbf55e936"
      },
      "outputs": [
        {
          "name": "stdout",
          "output_type": "stream",
          "text": [
            "<class 'bool'>\n",
            "False\n"
          ]
        }
      ],
      "source": [
        "# Boolean\n",
        "bool1=True\n",
        "print(type(bool1))\n",
        "\n",
        "bool2=6<4\n",
        "print(bool2)"
      ]
    },
    {
      "cell_type": "code",
      "execution_count": null,
      "metadata": {
        "colab": {
          "base_uri": "https://localhost:8080/"
        },
        "id": "S-gQ41-zDHYU",
        "outputId": "b7a4b0ab-52e7-47fa-b8e1-209a361e225b"
      },
      "outputs": [
        {
          "name": "stdout",
          "output_type": "stream",
          "text": [
            "<class 'complex'>\n",
            "(3+4j)\n"
          ]
        }
      ],
      "source": [
        "# complex\n",
        "c=3+4j\n",
        "print(type(c))\n",
        "print(c)"
      ]
    },
    {
      "cell_type": "code",
      "execution_count": null,
      "metadata": {
        "colab": {
          "base_uri": "https://localhost:8080/"
        },
        "id": "bBNrS_fDDvtA",
        "outputId": "87d0a49e-ea82-4f63-c906-6cc7b8bbed6f"
      },
      "outputs": [
        {
          "name": "stdout",
          "output_type": "stream",
          "text": [
            "datatype\n"
          ]
        },
        {
          "data": {
            "text/plain": [
              "str"
            ]
          },
          "execution_count": 21,
          "metadata": {},
          "output_type": "execute_result"
        }
      ],
      "source": [
        "# string\n",
        "a=\"datatype\"\n",
        "print(a)\n",
        "type(a)\n"
      ]
    },
    {
      "cell_type": "markdown",
      "metadata": {
        "id": "aVLUkP-wEC8e"
      },
      "source": [
        "Slicing in string"
      ]
    },
    {
      "cell_type": "code",
      "execution_count": null,
      "metadata": {
        "colab": {
          "base_uri": "https://localhost:8080/"
        },
        "id": "XmaJuxpIEByg",
        "outputId": "65badca7-ac5b-425e-8705-7c02fc2cf1e0"
      },
      "outputs": [
        {
          "name": "stdout",
          "output_type": "stream",
          "text": [
            "machin\n"
          ]
        }
      ],
      "source": [
        "a=\"machine\"\n",
        "print(a[0:6])  # values from 0 to index-1  , for this 0 to 6-1(5)"
      ]
    },
    {
      "cell_type": "markdown",
      "metadata": {
        "id": "of_75p5sEU_j"
      },
      "source": [
        "Objects :\n",
        "  An object can be any data value that can be assigned to a variable\n",
        "Types of objects :\n",
        "\n",
        "*   Mutable object\n",
        "*   Immutable object\n",
        "\n",
        "**Immutable objects**\n",
        "\n",
        "1.   int\n",
        "2.   float\n",
        "1.   string\n",
        "2.   bool\n",
        "1.   tuple\n",
        "**Mutable objects:**  (changeable)\n",
        "\n",
        "1.   List\n",
        "2.   Set\n",
        "1.   Dictionary\n",
        "\n",
        "\n",
        "\n",
        "\n",
        "\n",
        "\n",
        "\n",
        "\n",
        "\n",
        "\n",
        "\n",
        "\n"
      ]
    },
    {
      "cell_type": "markdown",
      "metadata": {
        "id": "QkPV6K8BHeym"
      },
      "source": [
        "Special Data Types\n",
        "*  List\n",
        "\n",
        "\n"
      ]
    },
    {
      "cell_type": "code",
      "execution_count": null,
      "metadata": {
        "colab": {
          "base_uri": "https://localhost:8080/"
        },
        "id": "gZ0apZ2LHT86",
        "outputId": "65bd4f82-6317-4c23-906e-8916ed0fe564"
      },
      "outputs": [
        {
          "name": "stdout",
          "output_type": "stream",
          "text": [
            "[1, 2, 3, 4, 5]\n"
          ]
        },
        {
          "data": {
            "text/plain": [
              "list"
            ]
          },
          "execution_count": 19,
          "metadata": {},
          "output_type": "execute_result"
        }
      ],
      "source": [
        "# Enclosed in square brackets\n",
        "a=[1,2,3,4,5]\n",
        "print(a)\n",
        "type(a)"
      ]
    },
    {
      "cell_type": "code",
      "execution_count": null,
      "metadata": {
        "colab": {
          "base_uri": "https://localhost:8080/"
        },
        "id": "iHe3z_ewIWrH",
        "outputId": "e7fa664d-a6f6-49fd-a207-b1b7868b9ee6"
      },
      "outputs": [
        {
          "name": "stdout",
          "output_type": "stream",
          "text": [
            "[1, 'name', 3.4, 1, True, 1, 2, 2, 3]\n",
            "9\n"
          ]
        }
      ],
      "source": [
        "# Lists can have multiple data types & allows duplicate elements\n",
        "b=[1,\"name\",3.4,1,True,1,2,2,3]\n",
        "print(b)\n",
        "# For lennth of list\n",
        "print(len(b))"
      ]
    },
    {
      "cell_type": "code",
      "execution_count": null,
      "metadata": {
        "colab": {
          "base_uri": "https://localhost:8080/"
        },
        "id": "LNvJhGX_I6s4",
        "outputId": "a6efcbbd-02cf-452c-f490-7bd571653c3e"
      },
      "outputs": [
        {
          "name": "stdout",
          "output_type": "stream",
          "text": [
            "[1, 2, 3, 4, 5, 10]\n"
          ]
        }
      ],
      "source": [
        "# Lists mutable in nature\n",
        "a.append(10)\n",
        "print(a)"
      ]
    },
    {
      "cell_type": "code",
      "execution_count": null,
      "metadata": {
        "colab": {
          "base_uri": "https://localhost:8080/"
        },
        "id": "9sWZ-SzQJGoB",
        "outputId": "eaacb8f2-29f4-4ef7-d270-f6db85a0a574"
      },
      "outputs": [
        {
          "name": "stdout",
          "output_type": "stream",
          "text": [
            "1\n",
            "10\n",
            "[1, 2, 4, 5, 10]\n"
          ]
        }
      ],
      "source": [
        "#List can also supports indexing like arrays\n",
        "print(a[0]) #1\n",
        "print(a[5]) #10\n",
        "# deletng an element at specific index\n",
        "del a[2]\n",
        "print(a) #[1,2,4,5,10]"
      ]
    },
    {
      "cell_type": "code",
      "execution_count": null,
      "metadata": {
        "colab": {
          "base_uri": "https://localhost:8080/"
        },
        "id": "SUS-_byoLRP3",
        "outputId": "73d4f253-346f-4e03-ba96-031151b61fdc"
      },
      "outputs": [
        {
          "name": "stdout",
          "output_type": "stream",
          "text": [
            "[1, 2, 4, 5, 10, 1, 'name', 3.4, 1, True, 1, 2, 2, 3]\n"
          ]
        }
      ],
      "source": [
        "# Joning two lists\n",
        "c=a+b\n",
        "print(c)"
      ]
    },
    {
      "cell_type": "markdown",
      "metadata": {
        "id": "1hxjbtVLLdVg"
      },
      "source": [
        "\n",
        "*   Tuple   (Immutable)\n",
        "\n"
      ]
    },
    {
      "cell_type": "code",
      "execution_count": null,
      "metadata": {
        "colab": {
          "base_uri": "https://localhost:8080/"
        },
        "id": "pDam1Vg-Llyp",
        "outputId": "c7e2d10d-28cb-4cc2-f901-ce8ed50c1ea2"
      },
      "outputs": [
        {
          "name": "stdout",
          "output_type": "stream",
          "text": [
            "(1, 2, 3, 4, 5)\n"
          ]
        },
        {
          "data": {
            "text/plain": [
              "tuple"
            ]
          },
          "execution_count": 23,
          "metadata": {},
          "output_type": "execute_result"
        }
      ],
      "source": [
        "# Enclosed by paranthesis\n",
        "t=(1,2,3,4,5)\n",
        "print(t)\n",
        "type(t)"
      ]
    },
    {
      "cell_type": "code",
      "execution_count": null,
      "metadata": {
        "colab": {
          "base_uri": "https://localhost:8080/"
        },
        "id": "AQ2XGO9_L351",
        "outputId": "7f6ecd6d-6ddd-4c1d-d5cc-0a5b9af00b44"
      },
      "outputs": [
        {
          "name": "stdout",
          "output_type": "stream",
          "text": [
            "(1, 2, 'name', True, 1, 2)\n",
            "6\n"
          ]
        }
      ],
      "source": [
        "# allows mutiple data types & allows duplicate elements\n",
        "t1=(1,2,\"name\",True,1,2)\n",
        "print(t1)\n",
        "# For length of tuple\n",
        "print(len(t1))"
      ]
    },
    {
      "cell_type": "code",
      "execution_count": null,
      "metadata": {
        "colab": {
          "base_uri": "https://localhost:8080/"
        },
        "id": "V_sBEEKrMLDc",
        "outputId": "0ef395b1-cbff-458b-cb2f-23187db404d7"
      },
      "outputs": [
        {
          "name": "stdout",
          "output_type": "stream",
          "text": [
            "name\n",
            "True\n"
          ]
        }
      ],
      "source": [
        "# Indexing\n",
        "print(t1[2])\n",
        "print(t1[3])"
      ]
    },
    {
      "cell_type": "code",
      "execution_count": null,
      "metadata": {
        "colab": {
          "base_uri": "https://localhost:8080/"
        },
        "id": "ncVWz7lzMefE",
        "outputId": "b9c0c663-f5f5-4d13-ae03-ed47c85ee69a"
      },
      "outputs": [
        {
          "name": "stdout",
          "output_type": "stream",
          "text": [
            "[1, 2, 'name', True, 1, 2]\n",
            "(1, 2, 'name', True, 1, 2)\n"
          ]
        }
      ],
      "source": [
        "# Conversion of Tuple to List\n",
        "print(list(t1))\n",
        "# converson of list to tuple\n",
        "print(tuple(t1))"
      ]
    },
    {
      "cell_type": "markdown",
      "metadata": {
        "id": "gh-xCz_gNC9Y"
      },
      "source": [
        "\n",
        "\n",
        "\n",
        "\n",
        "*   Set\n",
        "\n",
        "\n",
        "\n"
      ]
    },
    {
      "cell_type": "code",
      "execution_count": null,
      "metadata": {
        "colab": {
          "base_uri": "https://localhost:8080/"
        },
        "id": "SWYVYdluNHiB",
        "outputId": "b56f2b72-faf7-4ee0-a317-3c4b8b62cd19"
      },
      "outputs": [
        {
          "name": "stdout",
          "output_type": "stream",
          "text": [
            "{1, 2, 3, 4, 5}\n"
          ]
        },
        {
          "data": {
            "text/plain": [
              "set"
            ]
          },
          "execution_count": 29,
          "metadata": {},
          "output_type": "execute_result"
        }
      ],
      "source": [
        "# Enclosed by curly brackets\n",
        "s={1,2,3,4,5}\n",
        "print(s)\n",
        "type(s)"
      ]
    },
    {
      "cell_type": "code",
      "execution_count": null,
      "metadata": {
        "colab": {
          "base_uri": "https://localhost:8080/",
          "height": 159
        },
        "id": "hee3Ulr0NdZO",
        "outputId": "12e6f45f-6486-4aff-8f8f-3c79555b537a"
      },
      "outputs": [
        {
          "ename": "TypeError",
          "evalue": "'set' object is not subscriptable",
          "output_type": "error",
          "traceback": [
            "\u001b[0;31m---------------------------------------------------------------------------\u001b[0m",
            "\u001b[0;31mTypeError\u001b[0m                                 Traceback (most recent call last)",
            "\u001b[0;32m<ipython-input-30-cab7555990fe>\u001b[0m in \u001b[0;36m<cell line: 2>\u001b[0;34m()\u001b[0m\n\u001b[1;32m      1\u001b[0m \u001b[0;31m# Set doesn't support indexing\u001b[0m\u001b[0;34m\u001b[0m\u001b[0;34m\u001b[0m\u001b[0m\n\u001b[0;32m----> 2\u001b[0;31m \u001b[0mprint\u001b[0m\u001b[0;34m(\u001b[0m\u001b[0ms\u001b[0m\u001b[0;34m[\u001b[0m\u001b[0;36m0\u001b[0m\u001b[0;34m]\u001b[0m\u001b[0;34m)\u001b[0m\u001b[0;34m\u001b[0m\u001b[0;34m\u001b[0m\u001b[0m\n\u001b[0m",
            "\u001b[0;31mTypeError\u001b[0m: 'set' object is not subscriptable"
          ]
        }
      ],
      "source": [
        "# Set doesn't support indexing  as sets do not have a defned order\n",
        "print(s[0])"
      ]
    },
    {
      "cell_type": "code",
      "execution_count": null,
      "metadata": {
        "colab": {
          "base_uri": "https://localhost:8080/"
        },
        "id": "QG30jCUmN0u4",
        "outputId": "d080aa55-cca6-48ca-b84b-92f98f2fcf17"
      },
      "outputs": [
        {
          "name": "stdout",
          "output_type": "stream",
          "text": [
            "[1, 2, 3, 4, 5]\n",
            "{1, 2, 3, 4, 5}\n"
          ]
        }
      ],
      "source": [
        "# Conversion of set to list\n",
        "print(list(s))\n",
        "print(set(s))"
      ]
    },
    {
      "cell_type": "code",
      "execution_count": null,
      "metadata": {
        "colab": {
          "base_uri": "https://localhost:8080/"
        },
        "id": "beHQyckcOB6G",
        "outputId": "df8e8290-8a97-4950-b5d4-c15b57d69b00"
      },
      "outputs": [
        {
          "name": "stdout",
          "output_type": "stream",
          "text": [
            "{1, 2, 3, 4, 5, 6, 8}\n"
          ]
        }
      ],
      "source": [
        "# Set doesn't support duplicte elements\n",
        "s1={1,2,1,2,1,2,3,4,3,4,5,5,6,8}\n",
        "print(s1)"
      ]
    },
    {
      "cell_type": "markdown",
      "metadata": {
        "id": "woZcAA5xORjT"
      },
      "source": [
        "\n",
        "\n",
        "*  Dictionary (key value pair mapping)\n",
        "\n",
        "\n"
      ]
    },
    {
      "cell_type": "code",
      "execution_count": null,
      "metadata": {
        "colab": {
          "base_uri": "https://localhost:8080/"
        },
        "id": "-8X6khttOjGK",
        "outputId": "a9cfab68-36e8-41af-887f-cfad504cee77"
      },
      "outputs": [
        {
          "name": "stdout",
          "output_type": "stream",
          "text": [
            "{'position': 'Student', 'name': 'xyz'}\n"
          ]
        },
        {
          "data": {
            "text/plain": [
              "dict"
            ]
          },
          "execution_count": 34,
          "metadata": {},
          "output_type": "execute_result"
        }
      ],
      "source": [
        "# Enclosed in curly brackets\n",
        "d={'position':'Student','name':'xyz'}\n",
        "print(d)\n",
        "type(d)"
      ]
    },
    {
      "cell_type": "code",
      "execution_count": null,
      "metadata": {
        "colab": {
          "base_uri": "https://localhost:8080/"
        },
        "id": "8y9b20O9Prlz",
        "outputId": "38e30c41-d735-4d28-9bf7-4cfcdd59225f"
      },
      "outputs": [
        {
          "name": "stdout",
          "output_type": "stream",
          "text": [
            "Student\n"
          ]
        }
      ],
      "source": [
        "# Accessing the value by using its key...\n",
        "print(d['position'])"
      ]
    },
    {
      "cell_type": "code",
      "execution_count": null,
      "metadata": {
        "colab": {
          "base_uri": "https://localhost:8080/"
        },
        "id": "sbEyyxrFP7rs",
        "outputId": "a9eecf49-eebc-4279-f9af-cafcd3590ad7"
      },
      "outputs": [
        {
          "name": "stdout",
          "output_type": "stream",
          "text": [
            "{'position': 'Employee', 'name': 'abc'}\n"
          ]
        }
      ],
      "source": [
        "# Doesn't allow duplictes in keys\n",
        "d1={'position':'Student','position':'Employee','name':'xyz','name':'xyz','name':'abc'}\n",
        "print(d1)"
      ]
    }
  ],
  "metadata": {
    "colab": {
      "provenance": []
    },
    "kernelspec": {
      "display_name": "Python 3",
      "name": "python3"
    },
    "language_info": {
      "name": "python"
    }
  },
  "nbformat": 4,
  "nbformat_minor": 0
}
