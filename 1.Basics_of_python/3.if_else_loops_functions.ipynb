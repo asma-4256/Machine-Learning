{
  "cells": [
    {
      "cell_type": "markdown",
      "metadata": {
        "id": "QlHi-qW5XKCS"
      },
      "source": [
        "if else statement:\n",
        "          \n",
        "          \n",
        "   A conditional statement that executes if block when it is true else executes else condition."
      ]
    },
    {
      "cell_type": "code",
      "execution_count": null,
      "metadata": {
        "colab": {
          "base_uri": "https://localhost:8080/"
        },
        "id": "jDqPue4uX0OU",
        "outputId": "e78a95cc-1241-4c84-f464-ed83167ae67a"
      },
      "outputs": [
        {
          "name": "stdout",
          "output_type": "stream",
          "text": [
            "Enter first number: 10\n",
            "Enter second number: 2\n",
            "10 is greater than 2\n"
          ]
        }
      ],
      "source": [
        "# Greatest of two numbers\n",
        "a=int(input(\"Enter first number: \"))\n",
        "b=int(input(\"Enter second number: \"))\n",
        "if a>b:\n",
        "    print(f\"{a} is greater than {b}\")\n",
        "else:\n",
        "    print(f\"{b} is greater than {a}\")"
      ]
    },
    {
      "cell_type": "markdown",
      "metadata": {
        "id": "yTzauQ7FYsb6"
      },
      "source": [
        "if elif else statement"
      ]
    },
    {
      "cell_type": "code",
      "execution_count": null,
      "metadata": {
        "colab": {
          "base_uri": "https://localhost:8080/"
        },
        "id": "UJdxKsDJZUbb",
        "outputId": "50f20afa-049b-4e8b-e5f0-22c3b7b643e7"
      },
      "outputs": [
        {
          "name": "stdout",
          "output_type": "stream",
          "text": [
            "Enter first number: 5\n",
            "Enter Second number: 7\n",
            "Enter Third number: 9\n",
            "9 is greatest\n"
          ]
        }
      ],
      "source": [
        "# Greatest of three number jis\n",
        "a=int(input(\"Enter first number: \"))\n",
        "b=int(input(\"Enter Second number: \"))\n",
        "c=int(input(\"Enter Third number: \"))\n",
        "if(a>b and a>c):\n",
        "  print(f\"{a} is greatest\")\n",
        "elif(b>a and b>c):\n",
        "  print(f\"{b} is greatest\")\n",
        "else:\n",
        "  print(f\"{c} is greatest\")"
      ]
    },
    {
      "cell_type": "markdown",
      "metadata": {
        "id": "YO9Lqav7avaH"
      },
      "source": [
        "nested if statement\n",
        "       \n",
        "       A if block containing another if block of code\n",
        "    "
      ]
    },
    {
      "cell_type": "code",
      "execution_count": null,
      "metadata": {
        "colab": {
          "base_uri": "https://localhost:8080/"
        },
        "id": "7LFaHgDdbyEY",
        "outputId": "c2312571-f48d-4b32-faba-ca7148eca85b"
      },
      "outputs": [
        {
          "name": "stdout",
          "output_type": "stream",
          "text": [
            "Enter first number: 34\n",
            "Enter Second number: 45\n",
            "Enter Third number: 98\n",
            "98 is greatest\n"
          ]
        }
      ],
      "source": [
        "# Greatest of three numbers\n",
        "a=int(input(\"Enter first number: \"))\n",
        "b=int(input(\"Enter Second number: \"))\n",
        "c=int(input(\"Enter Third number: \"))\n",
        "if(a>b):\n",
        "  if(a>c):\n",
        "    print(f\"{a} is greatest\")\n",
        "  else:\n",
        "    print(f\"{c} is greatest\")\n",
        "else:\n",
        "  if(b>c):\n",
        "    print(f\"{b} is greatest\")\n",
        "  else:\n",
        "    print(f\"{c} is greatest\")"
      ]
    },
    {
      "cell_type": "markdown",
      "metadata": {
        "id": "70d5jj_0djYp"
      },
      "source": [
        "Loops\n",
        "\n",
        "\n",
        "\n",
        "\n",
        "1.   for loop\n",
        "\n",
        "2.   while loop\n",
        "\n",
        "\n",
        "\n",
        "\n",
        "\n",
        "\n"
      ]
    },
    {
      "cell_type": "markdown",
      "metadata": {
        "id": "3dQKlF1yemUe"
      },
      "source": [
        "\n",
        "\n",
        "*   for loop\n",
        "\n",
        "     Is used to iterate over sequential elements such as arrys,lists etc"
      ]
    },
    {
      "cell_type": "code",
      "execution_count": null,
      "metadata": {
        "colab": {
          "base_uri": "https://localhost:8080/"
        },
        "id": "nJA-_IYpe8qV",
        "outputId": "19236409-2700-48d1-e01f-ff906dd74496"
      },
      "outputs": [
        {
          "name": "stdout",
          "output_type": "stream",
          "text": [
            "The value :   1\n",
            "The value :   2\n",
            "The value :   3\n",
            "The value :   4\n",
            "The value :   5\n",
            "The value :   6\n",
            "The value :   7\n",
            "The value :   8\n",
            "The value :   9\n"
          ]
        }
      ],
      "source": [
        "a=[1,2,3,4,5,6,7,8,9]\n",
        "for i in a:   # range from 0 to n-1\n",
        "  print(\"The value :  \",i)"
      ]
    },
    {
      "cell_type": "markdown",
      "metadata": {
        "id": "PZpfZCJPgMPK"
      },
      "source": [
        "\n",
        "\n",
        "*   while loop\n",
        "     repeatedly executing a block of code until the condition fails.\n",
        "\n",
        "\n"
      ]
    },
    {
      "cell_type": "code",
      "execution_count": null,
      "metadata": {
        "colab": {
          "base_uri": "https://localhost:8080/"
        },
        "id": "lEvguqNEhWcS",
        "outputId": "c8818a3a-bf55-4b89-b15a-e51263753252"
      },
      "outputs": [
        {
          "name": "stdout",
          "output_type": "stream",
          "text": [
            "Enter n value :4\n",
            "0\n",
            "1\n",
            "2\n",
            "3\n"
          ]
        }
      ],
      "source": [
        "# natural numbers upto n\n",
        "n=int(input(\"Enter n value :\"))\n",
        "i=0\n",
        "while(i<n):\n",
        "  print(i)\n",
        "  i=i+1\n"
      ]
    },
    {
      "cell_type": "code",
      "execution_count": null,
      "metadata": {
        "colab": {
          "base_uri": "https://localhost:8080/"
        },
        "id": "NaL1yspegbzl",
        "outputId": "f1833acb-1774-416b-d8b4-859d6410e9ff"
      },
      "outputs": [
        {
          "name": "stdout",
          "output_type": "stream",
          "text": [
            "Enter n value :6\n",
            "21\n"
          ]
        }
      ],
      "source": [
        "# Sum of n natural numbers:\n",
        "n=int(input(\"Enter n value :\"))\n",
        "sum=0\n",
        "while(n>0):\n",
        "  sum=sum+n\n",
        "  n=n-1\n",
        "print(sum)"
      ]
    },
    {
      "cell_type": "markdown",
      "metadata": {
        "id": "087YcZRghQ08"
      },
      "source": [
        "Functions :\n",
        "\n",
        "   Functions are block of code that can be reused in the program"
      ]
    },
    {
      "cell_type": "code",
      "execution_count": null,
      "metadata": {
        "colab": {
          "base_uri": "https://localhost:8080/"
        },
        "id": "AQ0TZQMMiItc",
        "outputId": "b2b65632-c415-42ae-a83f-2c70f5e93a39"
      },
      "outputs": [
        {
          "name": "stdout",
          "output_type": "stream",
          "text": [
            "Enter a value :4\n",
            "24\n"
          ]
        }
      ],
      "source": [
        "# factorial of a number\n",
        "def fact(n):\n",
        "  f=1\n",
        "  for i in range(1,n+1):\n",
        "    f=f*i\n",
        "  return f\n",
        "n=int(input(\"Enter a value :\"))\n",
        "print(fact(n))\n"
      ]
    },
    {
      "cell_type": "code",
      "execution_count": null,
      "metadata": {
        "colab": {
          "base_uri": "https://localhost:8080/"
        },
        "id": "9ng2P1jki3Tx",
        "outputId": "e6db2662-060e-43d5-98a3-16806b7d09c2"
      },
      "outputs": [
        {
          "data": {
            "text/plain": [
              "120"
            ]
          },
          "execution_count": 21,
          "metadata": {},
          "output_type": "execute_result"
        }
      ],
      "source": [
        "fact(5)"
      ]
    },
    {
      "cell_type": "code",
      "execution_count": null,
      "metadata": {
        "colab": {
          "base_uri": "https://localhost:8080/"
        },
        "id": "irTgvxRKi6hl",
        "outputId": "e5c7bf56-3d86-4a3d-f1ba-66e61ebc28d8"
      },
      "outputs": [
        {
          "data": {
            "text/plain": [
              "5040"
            ]
          },
          "execution_count": 22,
          "metadata": {},
          "output_type": "execute_result"
        }
      ],
      "source": [
        "fact(7)"
      ]
    },
    {
      "cell_type": "code",
      "execution_count": null,
      "metadata": {
        "colab": {
          "base_uri": "https://localhost:8080/"
        },
        "id": "M4ybryFBi8xp",
        "outputId": "00e112e8-b167-4d76-b9dd-8cd26ba28a53"
      },
      "outputs": [
        {
          "data": {
            "text/plain": [
              "720"
            ]
          },
          "execution_count": 23,
          "metadata": {},
          "output_type": "execute_result"
        }
      ],
      "source": [
        "fact(6)"
      ]
    }
  ],
  "metadata": {
    "colab": {
      "provenance": []
    },
    "kernelspec": {
      "display_name": "Python 3",
      "name": "python3"
    },
    "language_info": {
      "name": "python"
    }
  },
  "nbformat": 4,
  "nbformat_minor": 0
}
