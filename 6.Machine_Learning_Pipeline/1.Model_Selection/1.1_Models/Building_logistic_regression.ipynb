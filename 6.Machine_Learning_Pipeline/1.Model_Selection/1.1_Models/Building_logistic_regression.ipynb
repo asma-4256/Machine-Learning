{
  "nbformat": 4,
  "nbformat_minor": 0,
  "metadata": {
    "colab": {
      "provenance": []
    },
    "kernelspec": {
      "name": "python3",
      "display_name": "Python 3"
    },
    "language_info": {
      "name": "python"
    }
  },
  "cells": [
    {
      "cell_type": "code",
      "execution_count": null,
      "metadata": {
        "id": "cF6nAYGL3XCl"
      },
      "outputs": [],
      "source": [
        "#importing library\n",
        "import numpy as np"
      ]
    },
    {
      "cell_type": "code",
      "source": [
        "\n",
        "class Logistic_Regression():\n",
        "\n",
        "\n",
        "  # declaring learning rate & number of iterations (Hyperparametes)\n",
        "  def __init__(self, learning_rate, no_of_iterations):\n",
        "\n",
        "    self.learning_rate = learning_rate\n",
        "    self.no_of_iterations = no_of_iterations\n",
        "\n",
        "\n",
        "\n",
        "  # fit function to train the model with dataset\n",
        "  def fit(self, X, Y):\n",
        "\n",
        "    # number of data points in the dataset (number of rows)  -->  m\n",
        "    # number of input features in the dataset (number of columns)  --> n\n",
        "    self.m, self.n = X.shape\n",
        "\n",
        "\n",
        "    #initiating weight & bias value\n",
        "\n",
        "    self.w = np.zeros(self.n)\n",
        "\n",
        "    self.b = 0\n",
        "\n",
        "    self.X = X\n",
        "\n",
        "    self.Y = Y\n",
        "\n",
        "    # implementing Gradient Descent for Optimization\n",
        "\n",
        "    for i in range(self.no_of_iterations):\n",
        "      self.update_weights()\n",
        "\n",
        "\n",
        "  def update_weights(self):\n",
        "\n",
        "    # Y_hat formula (sigmoid function)\n",
        "\n",
        "    Y_hat = 1 / (1 + np.exp( - (self.X.dot(self.w) + self.b ) ))\n",
        "\n",
        "    # derivaties\n",
        "\n",
        "    dw = (1/self.m)*np.dot(self.X.T, (Y_hat - self.Y))\n",
        "\n",
        "    db = (1/self.m)*np.sum(Y_hat - self.Y)\n",
        "\n",
        "\n",
        "    # updating the weights & bias using gradient descent\n",
        "\n",
        "    self.w = self.w - self.learning_rate * dw\n",
        "\n",
        "    self.b = self.b - self.learning_rate * db\n",
        "\n",
        "\n",
        "  # Sigmoid Equation & Decision Boundary\n",
        "\n",
        "  def predict(self, X):\n",
        "\n",
        "    Y_pred = 1 / (1 + np.exp( - (X.dot(self.w) + self.b ) ))\n",
        "    Y_pred = np.where( Y_pred > 0.5, 1, 0)\n",
        "    return Y_pred"
      ],
      "metadata": {
        "id": "v9k8Xozu3okt"
      },
      "execution_count": null,
      "outputs": []
    }
  ]
}